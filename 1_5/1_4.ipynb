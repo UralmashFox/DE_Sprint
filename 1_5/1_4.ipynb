{
 "cells": [
  {
   "cell_type": "code",
   "execution_count": 10,
   "outputs": [],
   "source": [
    "import numpy as np\n",
    "import pandas as pd\n",
    "\n",
    "path = \"ds_salaries.csv\"\n",
    "df = pd.read_csv(path).set_index('Unnamed: 0')"
   ],
   "metadata": {
    "collapsed": false
   }
  },
  {
   "cell_type": "markdown",
   "source": [
    "## Группировка вакансий"
   ],
   "metadata": {
    "collapsed": false
   }
  },
  {
   "cell_type": "code",
   "execution_count": 11,
   "outputs": [
    {
     "name": "stdout",
     "output_type": "stream",
     "text": [
      "{'3D Computer Vision Researcher': [77], 'AI Scientist': [52, 96, 113, 244, 277, 391, 606], 'Analytics Engineer': [344, 368, 560, 561], 'Applied Data Scientist': [82, 123, 509, 519, 525], 'Applied Machine Learning Scientist': [132, 157, 489, 506], 'BI Data Analyst': [23, 73, 76, 102, 168, 196], 'Big Data Architect': [255], 'Big Data Engineer': [2, 17, 31, 120, 180, 192, 213, 230], 'Business Data Analyst': [8, 28, 279, 458, 511], 'Cloud Data Engineer': [95, 149], 'Computer Vision Engineer': [54, 133, 216, 271, 454, 521], 'Computer Vision Software Engineer': [98, 99, 510], 'Data Analyst': [5, 14, 15, 34, 38, 50, 51, 79, 86, 89, 100, 103, 105, 118, 122, 124, 135, 140, 172, 229, 233, 241, 254, 261, 290, 291, 296, 297, 305, 306, 307, 308, 318, 325, 326, 327, 328, 329, 330, 331, 332, 333, 336, 338, 339, 349, 360, 361, 362, 363, 367, 376, 382, 383, 387, 392, 393, 402, 403, 406, 408, 429, 430, 431, 440, 441, 470, 471, 522, 527, 528, 529, 530, 531, 536, 540, 541, 548, 564, 566, 567, 568, 572, 573, 577, 580, 581, 584, 585, 586, 588, 589, 597, 600, 601, 604, 605], 'Data Analytics Engineer': [80, 87, 186, 514], 'Data Analytics Lead': [523], 'Data Analytics Manager': [158, 209, 219, 394, 395, 594, 595], 'Data Architect': [169, 170, 234, 358, 359, 378, 379, 534, 535, 590, 591], 'Data Engineer': [16, 22, 27, 35, 43, 44, 47, 49, 53, 60, 61, 81, 85, 101, 107, 108, 109, 114, 119, 144, 147, 162, 166, 171, 182, 185, 188, 207, 208, 212, 239, 242, 245, 247, 248, 256, 266, 267, 268, 269, 270, 280, 282, 289, 294, 295, 304, 309, 310, 313, 314, 316, 319, 320, 321, 322, 334, 335, 337, 340, 341, 345, 346, 348, 354, 355, 364, 366, 377, 380, 381, 385, 388, 397, 400, 401, 404, 405, 407, 412, 413, 414, 415, 418, 425, 426, 427, 432, 433, 434, 435, 436, 437, 442, 443, 445, 446, 447, 448, 450, ...], 'Data Engineering Manager': [30, 41, 142, 148, 175], 'Data Science Consultant': [18, 36, 91, 163, 187, 199, 272], 'Data Science Engineer': [117, 155, 417], 'Data Science Manager': [67, 141, 154, 190, 193, 198, 285, 350, 351, 421, 422, 516], 'Data Scientist': [0, 7, 10, 11, 12, 32, 40, 46, 48, 56, 57, 58, 59, 62, 63, 65, 66, 68, 69, 70, 71, 75, 94, 104, 116, 127, 131, 134, 139, 143, 151, 152, 153, 156, 176, 177, 179, 181, 195, 200, 202, 204, 205, 217, 221, 222, 223, 226, 227, 228, 237, 238, 240, 243, 246, 250, 251, 253, 260, 262, 264, 274, 275, 276, 278, 287, 292, 293, 298, 299, 300, 301, 302, 303, 311, 312, 315, 317, 323, 324, 347, 352, 353, 356, 357, 365, 369, 370, 398, 399, 409, 410, 411, 416, 423, 424, 428, 444, 459, 463, ...], 'Data Specialist': [165], 'Director of Data Engineering': [111, 232], 'Director of Data Science': [25, 84, 150, 164, 167, 259, 452], 'ETL Developer': [373, 374], 'Finance Data Analyst': [183], 'Financial Data Analyst': [97, 461], 'Head of Data': [74, 160, 286, 490, 501], 'Head of Data Science': [161, 235, 342, 343], 'Head of Machine Learning': [384], 'Lead Data Analyst': [13, 88, 92], 'Lead Data Engineer': [9, 19, 93, 112, 265, 375], 'Lead Data Scientist': [6, 24, 129], 'Lead Machine Learning Engineer': [457], 'ML Engineer': [45, 78, 136, 137, 231, 449], 'Machine Learning Developer': [130, 451, 493], 'Machine Learning Engineer': [4, 20, 37, 39, 64, 83, 110, 128, 145, 159, 178, 189, 191, 197, 206, 210, 214, 218, 220, 258, 263, 273, 288, 371, 372, 386, 389, 390, 396, 438, 439, 453, 477, 480, 481, 485, 500, 503, 513, 532, 533], 'Machine Learning Infrastructure Engineer': [42, 201, 460], 'Machine Learning Manager': [29], 'Machine Learning Scientist': [1, 115, 126, 184, 224, 419, 420, 495], 'Marketing Data Analyst': [90], 'NLP Engineer': [455], 'Principal Data Analyst': [249, 491], 'Principal Data Engineer': [121, 215, 252], 'Principal Data Scientist': [55, 125, 138, 173, 225, 257, 464], 'Product Data Analyst': [3, 21], 'Research Scientist': [26, 33, 72, 106, 146, 174, 194, 203, 211, 236, 281, 284, 466, 498, 507, 508], 'Staff Data Scientist': [283]}\n"
     ]
    }
   ],
   "source": [
    "df_grp = df.groupby(['job_title']).groups\n",
    "print(df_grp)"
   ],
   "metadata": {
    "collapsed": false
   }
  },
  {
   "cell_type": "markdown",
   "source": [
    "## Средняя и медианная зарплата"
   ],
   "metadata": {
    "collapsed": false
   }
  },
  {
   "cell_type": "code",
   "execution_count": 3,
   "outputs": [
    {
     "name": "stdout",
     "output_type": "stream",
     "text": [
      "{'3D Computer Vision Researcher': {'mean': 5409, 'median': 5409}, 'AI Scientist': {'mean': 66135.57142857143, 'median': 66135.57142857143}, 'Analytics Engineer': {'mean': 175000.0, 'median': 175000.0}, 'Applied Data Scientist': {'mean': 175655.0, 'median': 175655.0}, 'Applied Machine Learning Scientist': {'mean': 142068.75, 'median': 142068.75}, 'BI Data Analyst': {'mean': 74755.16666666667, 'median': 74755.16666666667}, 'Big Data Architect': {'mean': 99703, 'median': 99703}, 'Big Data Engineer': {'mean': 51974.0, 'median': 51974.0}, 'Business Data Analyst': {'mean': 76691.2, 'median': 76691.2}, 'Cloud Data Engineer': {'mean': 124647.0, 'median': 124647.0}, 'Computer Vision Engineer': {'mean': 44419.333333333336, 'median': 44419.333333333336}, 'Computer Vision Software Engineer': {'mean': 105248.66666666667, 'median': 105248.66666666667}, 'Data Analyst': {'mean': 92893.06185567011, 'median': 92893.06185567011}, 'Data Analytics Engineer': {'mean': 64799.25, 'median': 64799.25}, 'Data Analytics Lead': {'mean': 405000, 'median': 405000}, 'Data Analytics Manager': {'mean': 127134.28571428571, 'median': 127134.28571428571}, 'Data Architect': {'mean': 177873.9090909091, 'median': 177873.9090909091}, 'Data Engineer': {'mean': 112725.0, 'median': 112725.0}, 'Data Engineering Manager': {'mean': 123227.2, 'median': 123227.2}, 'Data Science Consultant': {'mean': 69420.71428571429, 'median': 69420.71428571429}, 'Data Science Engineer': {'mean': 75803.33333333333, 'median': 75803.33333333333}, 'Data Science Manager': {'mean': 158328.5, 'median': 158328.5}, 'Data Scientist': {'mean': 108187.83216783217, 'median': 108187.83216783217}, 'Data Specialist': {'mean': 165000, 'median': 165000}, 'Director of Data Engineering': {'mean': 156738.0, 'median': 156738.0}, 'Director of Data Science': {'mean': 195074.0, 'median': 195074.0}, 'ETL Developer': {'mean': 54957.0, 'median': 54957.0}, 'Finance Data Analyst': {'mean': 61896, 'median': 61896}, 'Financial Data Analyst': {'mean': 275000.0, 'median': 275000.0}, 'Head of Data': {'mean': 160162.6, 'median': 160162.6}, 'Head of Data Science': {'mean': 146718.75, 'median': 146718.75}, 'Head of Machine Learning': {'mean': 79039, 'median': 79039}, 'Lead Data Analyst': {'mean': 92203.0, 'median': 92203.0}, 'Lead Data Engineer': {'mean': 139724.5, 'median': 139724.5}, 'Lead Data Scientist': {'mean': 115190.0, 'median': 115190.0}, 'Lead Machine Learning Engineer': {'mean': 87932, 'median': 87932}, 'ML Engineer': {'mean': 117504.0, 'median': 117504.0}, 'Machine Learning Developer': {'mean': 85860.66666666667, 'median': 85860.66666666667}, 'Machine Learning Engineer': {'mean': 104880.14634146342, 'median': 104880.14634146342}, 'Machine Learning Infrastructure Engineer': {'mean': 101145.0, 'median': 101145.0}, 'Machine Learning Manager': {'mean': 117104, 'median': 117104}, 'Machine Learning Scientist': {'mean': 158412.5, 'median': 158412.5}, 'Marketing Data Analyst': {'mean': 88654, 'median': 88654}, 'NLP Engineer': {'mean': 37236, 'median': 37236}, 'Principal Data Analyst': {'mean': 122500.0, 'median': 122500.0}, 'Principal Data Engineer': {'mean': 328333.3333333333, 'median': 328333.3333333333}, 'Principal Data Scientist': {'mean': 215242.42857142858, 'median': 215242.42857142858}, 'Product Data Analyst': {'mean': 13036.0, 'median': 13036.0}, 'Research Scientist': {'mean': 109019.5, 'median': 109019.5}, 'Staff Data Scientist': {'mean': 105000, 'median': 105000}}\n"
     ]
    }
   ],
   "source": [
    "salary_data_per_branch = {}\n",
    "for key, value in df_grp.items():\n",
    "    group_salary = df[df.job_title == key].salary_in_usd.values\n",
    "    if len(group_salary) == 1:\n",
    "        mean_ = group_salary[0]\n",
    "        median_ = group_salary[0]\n",
    "    else:\n",
    "        mean_ = np.mean(group_salary)\n",
    "        median_ = np.mean(group_salary)\n",
    "    salary_data_per_branch[key] = {'mean': mean_,\n",
    "                                   'median': median_,\n",
    "                                   }\n",
    "print(salary_data_per_branch)\n"
   ],
   "metadata": {
    "collapsed": false
   }
  },
  {
   "cell_type": "markdown",
   "source": [
    "## Средняя и медианная зарплата по региону"
   ],
   "metadata": {
    "collapsed": false
   }
  },
  {
   "cell_type": "code",
   "execution_count": 4,
   "outputs": [
    {
     "name": "stdout",
     "output_type": "stream",
     "text": [
      "{'AE': {'mean': 100000.0, 'median': 100000.0}, 'AS': {'mean': 18053, 'median': 18053}, 'AT': {'mean': 72920.75, 'median': 72920.75}, 'AU': {'mean': 108042.66666666667, 'median': 108042.66666666667}, 'BE': {'mean': 85699.0, 'median': 85699.0}, 'BR': {'mean': 18602.666666666668, 'median': 18602.666666666668}, 'CA': {'mean': 99823.73333333334, 'median': 99823.73333333334}, 'CH': {'mean': 64114.0, 'median': 64114.0}, 'CL': {'mean': 40038, 'median': 40038}, 'CN': {'mean': 71665.5, 'median': 71665.5}, 'CO': {'mean': 21844, 'median': 21844}, 'CZ': {'mean': 50937.0, 'median': 50937.0}, 'DE': {'mean': 81887.21428571429, 'median': 81887.21428571429}, 'DK': {'mean': 54386.333333333336, 'median': 54386.333333333336}, 'DZ': {'mean': 100000, 'median': 100000}, 'EE': {'mean': 32974, 'median': 32974}, 'ES': {'mean': 53060.142857142855, 'median': 53060.142857142855}, 'FR': {'mean': 63970.666666666664, 'median': 63970.666666666664}, 'GB': {'mean': 81583.0425531915, 'median': 81583.0425531915}, 'GR': {'mean': 52293.09090909091, 'median': 52293.09090909091}, 'HN': {'mean': 20000, 'median': 20000}, 'HR': {'mean': 45618, 'median': 45618}, 'HU': {'mean': 35735, 'median': 35735}, 'IE': {'mean': 71444, 'median': 71444}, 'IL': {'mean': 119059, 'median': 119059}, 'IN': {'mean': 28581.75, 'median': 28581.75}, 'IQ': {'mean': 100000, 'median': 100000}, 'IR': {'mean': 4000, 'median': 4000}, 'IT': {'mean': 36366.5, 'median': 36366.5}, 'JP': {'mean': 114127.33333333333, 'median': 114127.33333333333}, 'KE': {'mean': 9272, 'median': 9272}, 'LU': {'mean': 43942.666666666664, 'median': 43942.666666666664}, 'MD': {'mean': 18000, 'median': 18000}, 'MT': {'mean': 28369, 'median': 28369}, 'MX': {'mean': 32123.333333333332, 'median': 32123.333333333332}, 'MY': {'mean': 40000, 'median': 40000}, 'NG': {'mean': 30000.0, 'median': 30000.0}, 'NL': {'mean': 54945.75, 'median': 54945.75}, 'NZ': {'mean': 125000, 'median': 125000}, 'PK': {'mean': 13333.333333333334, 'median': 13333.333333333334}, 'PL': {'mean': 66082.5, 'median': 66082.5}, 'PT': {'mean': 47793.75, 'median': 47793.75}, 'RO': {'mean': 60000, 'median': 60000}, 'RU': {'mean': 157500.0, 'median': 157500.0}, 'SG': {'mean': 89294, 'median': 89294}, 'SI': {'mean': 63831.0, 'median': 63831.0}, 'TR': {'mean': 20096.666666666668, 'median': 20096.666666666668}, 'UA': {'mean': 13400, 'median': 13400}, 'US': {'mean': 144055.26197183097, 'median': 144055.26197183097}, 'VN': {'mean': 4000, 'median': 4000}}\n"
     ]
    }
   ],
   "source": [
    "df_grp = df.groupby(['company_location']).groups\n",
    "salary_data_per_location = {}\n",
    "for key, value in df_grp.items():\n",
    "    group_salary = df[df.company_location == key].salary_in_usd.values\n",
    "    if len(group_salary) == 1:\n",
    "        mean_ = group_salary[0]\n",
    "        median_ = group_salary[0]\n",
    "    else:\n",
    "        mean_ = np.mean(group_salary)\n",
    "        median_ = np.mean(group_salary)\n",
    "    salary_data_per_location[key] = {'mean': mean_,\n",
    "                                     'median': median_,\n",
    "                                     }\n",
    "print(salary_data_per_location)"
   ],
   "metadata": {
    "collapsed": false
   }
  },
  {
   "cell_type": "markdown",
   "source": [
    "## Самая высокооплачиваемая из групп вакансий"
   ],
   "metadata": {
    "collapsed": false
   }
  },
  {
   "cell_type": "code",
   "execution_count": 5,
   "outputs": [
    {
     "name": "stdout",
     "output_type": "stream",
     "text": [
      "Data Analytics Lead\n"
     ]
    }
   ],
   "source": [
    "print(df[df.salary_in_usd == max(int(d['mean']) for d in salary_data_per_branch.values())].job_title.values[0])"
   ],
   "metadata": {
    "collapsed": false
   }
  },
  {
   "cell_type": "markdown",
   "source": [
    "## Процентное соотношение каждого региона по вакансиям от всех вакансий"
   ],
   "metadata": {
    "collapsed": false
   }
  },
  {
   "cell_type": "code",
   "execution_count": 6,
   "outputs": [
    {
     "name": "stdout",
     "output_type": "stream",
     "text": [
      "AE contains 0.005% of all the vacancies\n",
      "AS contains 0.002% of all the vacancies\n",
      "AT contains 0.007% of all the vacancies\n",
      "AU contains 0.005% of all the vacancies\n",
      "BE contains 0.003% of all the vacancies\n",
      "BR contains 0.005% of all the vacancies\n",
      "CA contains 0.049% of all the vacancies\n",
      "CH contains 0.003% of all the vacancies\n",
      "CL contains 0.002% of all the vacancies\n",
      "CN contains 0.003% of all the vacancies\n",
      "CO contains 0.002% of all the vacancies\n",
      "CZ contains 0.003% of all the vacancies\n",
      "DE contains 0.046% of all the vacancies\n",
      "DK contains 0.005% of all the vacancies\n",
      "DZ contains 0.002% of all the vacancies\n",
      "EE contains 0.002% of all the vacancies\n",
      "ES contains 0.023% of all the vacancies\n",
      "FR contains 0.025% of all the vacancies\n",
      "GB contains 0.077% of all the vacancies\n",
      "GR contains 0.018% of all the vacancies\n",
      "HN contains 0.002% of all the vacancies\n",
      "HR contains 0.002% of all the vacancies\n",
      "HU contains 0.002% of all the vacancies\n",
      "IE contains 0.002% of all the vacancies\n",
      "IL contains 0.002% of all the vacancies\n",
      "IN contains 0.04% of all the vacancies\n",
      "IQ contains 0.002% of all the vacancies\n",
      "IR contains 0.002% of all the vacancies\n",
      "IT contains 0.003% of all the vacancies\n",
      "JP contains 0.01% of all the vacancies\n",
      "KE contains 0.002% of all the vacancies\n",
      "LU contains 0.005% of all the vacancies\n",
      "MD contains 0.002% of all the vacancies\n",
      "MT contains 0.002% of all the vacancies\n",
      "MX contains 0.005% of all the vacancies\n",
      "MY contains 0.002% of all the vacancies\n",
      "NG contains 0.003% of all the vacancies\n",
      "NL contains 0.007% of all the vacancies\n",
      "NZ contains 0.002% of all the vacancies\n",
      "PK contains 0.005% of all the vacancies\n",
      "PL contains 0.007% of all the vacancies\n",
      "PT contains 0.007% of all the vacancies\n",
      "RO contains 0.002% of all the vacancies\n",
      "RU contains 0.003% of all the vacancies\n",
      "SG contains 0.002% of all the vacancies\n",
      "SI contains 0.003% of all the vacancies\n",
      "TR contains 0.005% of all the vacancies\n",
      "UA contains 0.002% of all the vacancies\n",
      "US contains 0.585% of all the vacancies\n",
      "VN contains 0.002% of all the vacancies\n"
     ]
    }
   ],
   "source": [
    "for key, values in df_grp.items():\n",
    "    print(f'{key} contains {np.round(len(values)/len(df), 3)}% of all the vacancies')\n"
   ],
   "metadata": {
    "collapsed": false
   }
  },
  {
   "cell_type": "markdown",
   "source": [
    "## Корреляция уровня опыта от зарплаты"
   ],
   "metadata": {
    "collapsed": false
   }
  },
  {
   "cell_type": "code",
   "execution_count": 7,
   "outputs": [
    {
     "name": "stdout",
     "output_type": "stream",
     "text": [
      "0.17049332455332775\n"
     ]
    }
   ],
   "source": [
    "print(df['work_year'].corr(df['salary_in_usd']))"
   ],
   "metadata": {
    "collapsed": false
   }
  },
  {
   "cell_type": "markdown",
   "source": [
    "## Сколько должностей в наборе данных"
   ],
   "metadata": {
    "collapsed": false
   }
  },
  {
   "cell_type": "code",
   "execution_count": 8,
   "outputs": [
    {
     "name": "stdout",
     "output_type": "stream",
     "text": [
      "50\n"
     ]
    }
   ],
   "source": [
    "print(len(df.groupby(['job_title']).groups))"
   ],
   "metadata": {
    "collapsed": false
   }
  },
  {
   "cell_type": "markdown",
   "source": [
    "## Какие 10 наиболее часто встречающихся должностей"
   ],
   "metadata": {
    "collapsed": false
   }
  },
  {
   "cell_type": "code",
   "execution_count": 9,
   "outputs": [
    {
     "name": "stdout",
     "output_type": "stream",
     "text": [
      "['Data Scientist', 'Data Engineer', 'Data Analyst', 'Machine Learning Engineer', 'Research Scientist', 'Data Science Manager', 'Data Architect', 'Big Data Engineer', 'Machine Learning Scientist', 'AI Scientist']\n"
     ]
    }
   ],
   "source": [
    "titles = df.groupby(['job_title']).groups\n",
    "i = 0\n",
    "top_ten = []\n",
    "for k in sorted(titles, key=lambda k: len(titles[k]), reverse=True):\n",
    "    if i < 10:\n",
    "        top_ten.append(k)\n",
    "        i += 1\n",
    "    else:\n",
    "        break\n",
    "print(top_ten)"
   ],
   "metadata": {
    "collapsed": false
   }
  }
 ],
 "metadata": {
  "kernelspec": {
   "display_name": "Python 3",
   "language": "python",
   "name": "python3"
  },
  "language_info": {
   "codemirror_mode": {
    "name": "ipython",
    "version": 2
   },
   "file_extension": ".py",
   "mimetype": "text/x-python",
   "name": "python",
   "nbconvert_exporter": "python",
   "pygments_lexer": "ipython2",
   "version": "2.7.6"
  }
 },
 "nbformat": 4,
 "nbformat_minor": 0
}
